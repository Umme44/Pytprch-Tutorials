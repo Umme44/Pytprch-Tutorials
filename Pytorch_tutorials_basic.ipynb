{
  "nbformat": 4,
  "nbformat_minor": 0,
  "metadata": {
    "colab": {
      "provenance": [],
      "gpuType": "T4",
      "authorship_tag": "ABX9TyMmKXodhEq2C5ma5sFkTmYW",
      "include_colab_link": true
    },
    "kernelspec": {
      "name": "python3",
      "display_name": "Python 3"
    },
    "language_info": {
      "name": "python"
    },
    "accelerator": "GPU"
  },
  "cells": [
    {
      "cell_type": "markdown",
      "metadata": {
        "id": "view-in-github",
        "colab_type": "text"
      },
      "source": [
        "<a href=\"https://colab.research.google.com/github/Umme44/Pytprch-Tutorials/blob/main/Pytorch_tutorials_basic.ipynb\" target=\"_parent\"><img src=\"https://colab.research.google.com/assets/colab-badge.svg\" alt=\"Open In Colab\"/></a>"
      ]
    },
    {
      "cell_type": "code",
      "source": [
        "import torch\n",
        "import numpy as np\n"
      ],
      "metadata": {
        "id": "EFQpknWUPhZB"
      },
      "execution_count": 2,
      "outputs": []
    },
    {
      "cell_type": "markdown",
      "source": [
        "###Initilize a tensor"
      ],
      "metadata": {
        "id": "nErcvaMERaf5"
      }
    },
    {
      "cell_type": "code",
      "source": [
        "data = [[1,2],[3,4]]\n",
        "x_data = torch.tensor(data)"
      ],
      "metadata": {
        "id": "Gx5alYFzPrKa"
      },
      "execution_count": 3,
      "outputs": []
    },
    {
      "cell_type": "code",
      "source": [
        "np_array = np.array(data)\n",
        "x_np = torch.from_numpy(np_array)"
      ],
      "metadata": {
        "id": "BqInz7goRnt5"
      },
      "execution_count": 4,
      "outputs": []
    },
    {
      "cell_type": "code",
      "source": [
        "shape = (2,3,)\n",
        "rand_tensor = torch.rand(shape)\n",
        "one_tensor = torch.ones(shape)\n",
        "zero_tensor = torch.zeros(shape)"
      ],
      "metadata": {
        "id": "--x0BkTBSd-q"
      },
      "execution_count": 5,
      "outputs": []
    },
    {
      "cell_type": "code",
      "source": [
        "print(zero_tensor)"
      ],
      "metadata": {
        "colab": {
          "base_uri": "https://localhost:8080/"
        },
        "id": "H7tGJ-xOS7bJ",
        "outputId": "e7218034-2918-4844-b8b9-6e0764d1d887"
      },
      "execution_count": 8,
      "outputs": [
        {
          "output_type": "stream",
          "name": "stdout",
          "text": [
            "tensor([[0., 0., 0.],\n",
            "        [0., 0., 0.]])\n"
          ]
        }
      ]
    },
    {
      "cell_type": "markdown",
      "source": [
        "##Attribute of Tensor"
      ],
      "metadata": {
        "id": "Zg-TeDuDTD0Q"
      }
    },
    {
      "cell_type": "code",
      "source": [
        "tensor = torch.rand(2,3)\n",
        "print(\"Shape of Tensor : \",{tensor.shape})\n",
        "print(\"dtype of Tensor : \",{tensor.dtype})\n",
        "print(\"device of Tensor : \",{tensor.device})\n"
      ],
      "metadata": {
        "colab": {
          "base_uri": "https://localhost:8080/"
        },
        "id": "KZ793sfiTGVq",
        "outputId": "8fc48744-3479-459d-ee46-65bb7840a695"
      },
      "execution_count": 9,
      "outputs": [
        {
          "output_type": "stream",
          "name": "stdout",
          "text": [
            "Shape of Tensor :  {torch.Size([2, 3])}\n",
            "dtype of Tensor :  {torch.float32}\n",
            "device of Tensor :  {device(type='cpu')}\n"
          ]
        }
      ]
    },
    {
      "cell_type": "markdown",
      "source": [
        "##Operations In Tensors"
      ],
      "metadata": {
        "id": "yVLMmNajTjqx"
      }
    },
    {
      "cell_type": "code",
      "source": [
        "if torch.cuda.is_available():\n",
        "  tensor = tensor.to('cuda')"
      ],
      "metadata": {
        "id": "R6ZzsS1CTm2R"
      },
      "execution_count": 10,
      "outputs": []
    },
    {
      "cell_type": "markdown",
      "source": [
        "##Indexing and Slicing"
      ],
      "metadata": {
        "id": "FMx9Dk-AU1cw"
      }
    },
    {
      "cell_type": "code",
      "source": [
        "tensor = torch.ones(4,4)\n",
        "print(f\"First row: \",tensor[0])\n",
        "print(f\"First column: \",tensor[:,0])\n",
        "print(f\"last row: \",tensor[...,-1])\n",
        "tensor[:1] = 0\n",
        "print(tensor)"
      ],
      "metadata": {
        "colab": {
          "base_uri": "https://localhost:8080/"
        },
        "id": "_ek0EMtBUrVZ",
        "outputId": "ed7ae67b-3874-4f41-eca8-4a2d9dfd19ff"
      },
      "execution_count": 17,
      "outputs": [
        {
          "output_type": "stream",
          "name": "stdout",
          "text": [
            "First row:  tensor([1., 1., 1., 1.])\n",
            "First column:  tensor([1., 1., 1., 1.])\n",
            "last row:  tensor([1., 1., 1., 1.])\n",
            "tensor([[0., 0., 0., 0.],\n",
            "        [1., 1., 1., 1.],\n",
            "        [1., 1., 1., 1.],\n",
            "        [1., 1., 1., 1.]])\n"
          ]
        }
      ]
    },
    {
      "cell_type": "markdown",
      "source": [
        "##joining tensor"
      ],
      "metadata": {
        "id": "0ZeyVmR2V__J"
      }
    },
    {
      "cell_type": "code",
      "source": [
        "t1 = torch.cat([tensor,tensor,tensor], dim=1)\n",
        "print(t1)"
      ],
      "metadata": {
        "colab": {
          "base_uri": "https://localhost:8080/"
        },
        "id": "Q9FAIGKNWCv4",
        "outputId": "0dc5b841-c038-4675-e953-cb73d47b6412"
      },
      "execution_count": 16,
      "outputs": [
        {
          "output_type": "stream",
          "name": "stdout",
          "text": [
            "tensor([[0., 0., 0., 0., 0., 0., 0., 0., 0., 0., 0., 0.],\n",
            "        [1., 1., 1., 1., 1., 1., 1., 1., 1., 1., 1., 1.],\n",
            "        [1., 1., 1., 1., 1., 1., 1., 1., 1., 1., 1., 1.],\n",
            "        [1., 1., 1., 1., 1., 1., 1., 1., 1., 1., 1., 1.]])\n"
          ]
        }
      ]
    },
    {
      "cell_type": "code",
      "source": [],
      "metadata": {
        "id": "g2YpNYtZXACw"
      },
      "execution_count": null,
      "outputs": []
    }
  ]
}